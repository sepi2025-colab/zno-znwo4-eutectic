{
  "nbformat": 4,
  "nbformat_minor": 0,
  "metadata": {
    "colab": {
      "provenance": []
    },
    "kernelspec": {
      "name": "python3",
      "display_name": "Python 3"
    },
    "language_info": {
      "name": "python"
    }
  },
  "cells": [
    {
      "cell_type": "code",
      "execution_count": 1,
      "metadata": {
        "colab": {
          "base_uri": "https://localhost:8080/"
        },
        "id": "e48K-qP_YOIE",
        "outputId": "aa0507f9-ac03-4e91-f65c-d74ba40b1e65"
      },
      "outputs": [
        {
          "output_type": "stream",
          "name": "stdout",
          "text": [
            "Get:1 http://security.ubuntu.com/ubuntu jammy-security InRelease [129 kB]\n",
            "Get:2 https://cloud.r-project.org/bin/linux/ubuntu jammy-cran40/ InRelease [3,632 B]\n",
            "Get:3 https://r2u.stat.illinois.edu/ubuntu jammy InRelease [6,555 B]\n",
            "Hit:4 https://developer.download.nvidia.com/compute/cuda/repos/ubuntu2204/x86_64  InRelease\n",
            "Hit:5 http://archive.ubuntu.com/ubuntu jammy InRelease\n",
            "Get:6 http://archive.ubuntu.com/ubuntu jammy-updates InRelease [128 kB]\n",
            "Get:7 https://ppa.launchpadcontent.net/deadsnakes/ppa/ubuntu jammy InRelease [18.1 kB]\n",
            "Hit:8 https://ppa.launchpadcontent.net/graphics-drivers/ppa/ubuntu jammy InRelease\n",
            "Hit:9 http://archive.ubuntu.com/ubuntu jammy-backports InRelease\n",
            "Hit:10 https://ppa.launchpadcontent.net/ubuntugis/ppa/ubuntu jammy InRelease\n",
            "Get:11 https://r2u.stat.illinois.edu/ubuntu jammy/main all Packages [8,833 kB]\n",
            "Get:12 https://r2u.stat.illinois.edu/ubuntu jammy/main amd64 Packages [2,690 kB]\n",
            "Get:13 http://security.ubuntu.com/ubuntu jammy-security/main amd64 Packages [2,788 kB]\n",
            "Get:14 http://security.ubuntu.com/ubuntu jammy-security/universe amd64 Packages [1,243 kB]\n",
            "Get:15 https://ppa.launchpadcontent.net/deadsnakes/ppa/ubuntu jammy/main amd64 Packages [34.3 kB]\n",
            "Get:16 http://archive.ubuntu.com/ubuntu jammy-updates/universe amd64 Packages [1,542 kB]\n",
            "Get:17 http://archive.ubuntu.com/ubuntu jammy-updates/main amd64 Packages [3,099 kB]\n",
            "Fetched 20.5 MB in 6s (3,211 kB/s)\n",
            "Reading package lists... Done\n",
            "W: Skipping acquire of configured file 'main/source/Sources' as repository 'https://r2u.stat.illinois.edu/ubuntu jammy InRelease' does not seem to provide it (sources.list entry misspelt?)\n",
            "Reading package lists... Done\n",
            "Building dependency tree... Done\n",
            "Reading state information... Done\n",
            "libopenmpi-dev is already the newest version (4.1.2-2ubuntu1).\n",
            "libpython3-dev is already the newest version (3.10.6-1~22.04.1).\n",
            "0 upgraded, 0 newly installed, 0 to remove and 32 not upgraded.\n",
            "Collecting meep\n",
            "  Downloading meep-1.0.6-py3-none-any.whl.metadata (828 bytes)\n",
            "Collecting gitapi (from meep)\n",
            "  Downloading gitapi-1.0.1.tar.gz (7.0 kB)\n",
            "  Preparing metadata (setup.py) ... \u001b[?25l\u001b[?25hdone\n",
            "Collecting hgapi (from meep)\n",
            "  Downloading hgapi-1.7.4.tar.gz (13 kB)\n",
            "  Preparing metadata (setup.py) ... \u001b[?25l\u001b[?25hdone\n",
            "Downloading meep-1.0.6-py3-none-any.whl (4.3 kB)\n",
            "Building wheels for collected packages: gitapi, hgapi\n",
            "  Building wheel for gitapi (setup.py) ... \u001b[?25l\u001b[?25hdone\n",
            "  Created wheel for gitapi: filename=gitapi-1.0.1-py3-none-any.whl size=6806 sha256=59ef9609629506f0a3d471ca58c9f4567e33ea13662a6b1a962b5a962268ad3c\n",
            "  Stored in directory: /root/.cache/pip/wheels/62/65/df/4aa1f634db5d11e007c6d6eea7a35f05acb2adc0c46d436fd3\n",
            "  Building wheel for hgapi (setup.py) ... \u001b[?25l\u001b[?25hdone\n",
            "  Created wheel for hgapi: filename=hgapi-1.7.4-py3-none-any.whl size=12642 sha256=c1b42d5870dc0037cee4d7f0f54c9a7bce295d96b4e3e200f14a6b7e1b49b50d\n",
            "  Stored in directory: /root/.cache/pip/wheels/f0/97/1e/b5ad00f4758f18ce0b5859b9c766c5c7beacaec640fd2ffb7f\n",
            "Successfully built gitapi hgapi\n",
            "Installing collected packages: hgapi, gitapi, meep\n",
            "Successfully installed gitapi-1.0.1 hgapi-1.7.4 meep-1.0.6\n"
          ]
        }
      ],
      "source": [
        "!apt-get update\n",
        "!apt-get install -y libpython3-dev libopenmpi-dev\n",
        "!pip install meep"
      ]
    },
    {
      "cell_type": "code",
      "source": [
        "import meep as mp\n",
        "import numpy as np\n",
        "import matplotlib.pyplot as plt\n",
        "\n",
        "# Define simulation geometry\n",
        "cell_size = mp.Vector3(0, periodicity, 0)\n",
        "geometry = [\n",
        "    mp.Block(\n",
        "        material=mp.Medium(epsilon=2.5),  # Replace with actual dielectric function for ZnWO4\n",
        "        size=mp.Vector3(mp.inf, zntwo4_thickness, mp.inf),\n",
        "        center=mp.Vector3(0, -lamella_thickness / 2, 0)\n",
        "    ),\n",
        "    mp.Block(\n",
        "        material=mp.Medium(epsilon=3.0),  # Replace with actual dielectric function for Al-doped ZnO\n",
        "        size=mp.Vector3(mp.inf, lamella_thickness, mp.inf),\n",
        "        center=mp.Vector3(0, zntwo4_thickness / 2, 0)\n",
        "    )\n",
        "]"
      ],
      "metadata": {
        "id": "NR_VczJrYqgZ"
      },
      "execution_count": null,
      "outputs": []
    }
  ]
}